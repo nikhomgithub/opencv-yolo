import cv2 as cv2
import numpy as np
import matplotlib.pyplot as plt
from google.colab.patches import cv2_imshow

#to test cv2
cv2.__version__ 
#'3.4.3'

path='https://tedcotoys.com/wp-content/uploads/2018/08/26092-4d-trex-main.jpg'
!wget path
#load image to colab server

!ls
#check img in colab server
#26092-4d-trex-main.jpg	sample_data

img=cv2.imread("26092-4d-trex-main.jpg")
cv2_imshow(img)
#origin image with cv2

img_cvt=cv2.cvtColor(img, cv2.COLOR_BGR2RGB)
plt.imshow(img_cvt)
#origin with plt 

mg2=cv2.imread("26092-4d-trex-main.jpg",cv2.IMREAD_GRAYSCALE)
cv2_imshow(img2)
plt.imshow(img2)
#gray image with cv2 is ok
#plt.imshow with plt is not ok

